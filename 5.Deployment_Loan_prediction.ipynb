{
 "cells": [
  {
   "cell_type": "code",
   "execution_count": 10,
   "id": "da6469d3-2249-450f-b7f5-07d639bd6774",
   "metadata": {},
   "outputs": [
    {
     "name": "stdin",
     "output_type": "stream",
     "text": [
      "Self_Employed:  0\n",
      "Income_annum:  3300000\n",
      "Loan_amount:  9800000\n",
      "Loan_term:  6\n",
      "Cibil_score:  360\n",
      "Debt_to_income_ratio:  2.96\n",
      "Total_assets_value:  20500000\n",
      "Loan_to_asset_ratio:  .478\n"
     ]
    },
    {
     "name": "stdout",
     "output_type": "stream",
     "text": [
      "Bank  Rejected the customer application\n"
     ]
    }
   ],
   "source": [
    "import pickle\n",
    "filename='Loan_approval_prediction.sav'\n",
    "loaded_model=pickle.load(open('Loan_approval_prediction.sav','rb'))\n",
    "def get_categorical_prediction(Prediction):\n",
    "    return 'Approved' if Prediction==1 else 'Rejected'\n",
    "\n",
    "#education=(input('Education: '))\n",
    "self_employed=(input('Self_Employed: '))\n",
    "income_annum=(input('Income_annum: '))\n",
    "loan_amount=(input('Loan_amount: '))\n",
    "loan_term=(input('Loan_term: '))\n",
    "cibil_score=(input('Cibil_score: '))\n",
    "debt_to_income_ratio=(input('Debt_to_income_ratio: '))\n",
    "total_assets_value=(input('Total_assets_value: '))\n",
    "loan_to_asset_ratio=(input('Loan_to_asset_ratio: '))\n",
    "result=loaded_model.predict([[self_employed,income_annum,loan_amount,loan_term,cibil_score,\n",
    "                              debt_to_income_ratio,total_assets_value,loan_to_asset_ratio]])\n",
    "model_prediction=get_categorical_prediction(result)\n",
    "print('Bank ',model_prediction,'the customer application')\n"
   ]
  },
  {
   "cell_type": "code",
   "execution_count": null,
   "id": "7262857e-b8c2-4b04-a003-8e6ba120842e",
   "metadata": {},
   "outputs": [],
   "source": []
  }
 ],
 "metadata": {
  "kernelspec": {
   "display_name": "Python 3 (ipykernel)",
   "language": "python",
   "name": "python3"
  },
  "language_info": {
   "codemirror_mode": {
    "name": "ipython",
    "version": 3
   },
   "file_extension": ".py",
   "mimetype": "text/x-python",
   "name": "python",
   "nbconvert_exporter": "python",
   "pygments_lexer": "ipython3",
   "version": "3.12.4"
  }
 },
 "nbformat": 4,
 "nbformat_minor": 5
}
